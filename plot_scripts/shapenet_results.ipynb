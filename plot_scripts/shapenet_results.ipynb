{
 "cells": [
  {
   "cell_type": "code",
   "execution_count": 126,
   "metadata": {},
   "outputs": [],
   "source": [
    "import matplotlib.pyplot as plt\n",
    "import glob\n",
    "import numpy as np\n",
    "from os.path import join\n",
    "import pandas as pd"
   ]
  },
  {
   "cell_type": "code",
   "execution_count": 78,
   "metadata": {},
   "outputs": [],
   "source": [
    "linecolor = '#818181'\n",
    "markercolor = '#59bccc'\n",
    "fontsize = 20\n",
    "linewidth = 3\n",
    "markersize = 13"
   ]
  },
  {
   "cell_type": "markdown",
   "metadata": {},
   "source": [
    "## More Dispersed Training Images (Section 5.3)"
   ]
  },
  {
   "cell_type": "code",
   "execution_count": 79,
   "metadata": {},
   "outputs": [],
   "source": [
    "base_path = '../eval/eval_results/more_imgs'\n",
    "input_path = 'checkpoints_input'\n",
    "output_path = 'checkpoints_pred'"
   ]
  },
  {
   "cell_type": "code",
   "execution_count": 80,
   "metadata": {},
   "outputs": [],
   "source": [
    "# Load Input image dispersion score\n",
    "input_img_npz_paths = glob.glob(join(base_path, input_path, \"*image*.npz\"))\n",
    "input_img_npz_paths.sort()\n",
    "img_avg_ds_lst = []\n",
    "for npz_path in input_img_npz_paths:\n",
    "    ds_dict = np.load(npz_path)\n",
    "    sample_num = ds_dict['sample_num']\n",
    "    ds_sum = ds_dict['KMedoids_Inertia_k500p0'][0].item()\n",
    "    avg_ds = ds_sum/sample_num\n",
    "    img_avg_ds_lst.append(avg_ds)"
   ]
  },
  {
   "cell_type": "code",
   "execution_count": 81,
   "metadata": {},
   "outputs": [],
   "source": [
    "# Load Input shape dispersion score\n",
    "input_x_labels = range(0, 105, 15)\n",
    "shape_avg_ds_lst = []\n",
    "input_shape_npz_paths = glob.glob(join(base_path, input_path, \"*point*.npz\"))\n",
    "ds_dict = np.load(input_shape_npz_paths[0])\n",
    "sample_num = ds_dict['sample_num']\n",
    "ds_sum = ds_dict['KMedoids_Inertia_k500p0'][0].item()\n",
    "avg_ds = ds_sum/sample_num\n",
    "shape_avg_ds_lst.append(avg_ds)"
   ]
  },
  {
   "cell_type": "code",
   "execution_count": 82,
   "metadata": {},
   "outputs": [],
   "source": [
    "# Load Output dispersion score and chamfer distance\n",
    "def find_cluster_size(path):\n",
    "    size = path.split('_')[-4]\n",
    "    return size\n",
    "\n",
    "output_ds = np.zeros((3, len(input_x_labels)))\n",
    "output_cd = np.zeros((3, len(input_x_labels)))\n",
    "for idx, seed in enumerate([1, 2, 3]):\n",
    "    seed1 = glob.glob(join(base_path, output_path, f\"*seed{seed}*\"))\n",
    "    seed1.sort(key=find_cluster_size)\n",
    "    ds_seed_lst = [] \n",
    "    cd_seed_lst = []\n",
    "    for p in seed1:\n",
    "        p_dict = np.load(p)\n",
    "        cd = p_dict['chamfer_stats'][0]\n",
    "        ds_sum = p_dict['KMedoids_Inertia_k500p0'][0]\n",
    "        avg_ds = ds_sum / p_dict['sample_num']\n",
    "        ds_seed_lst.append(avg_ds)\n",
    "        cd_seed_lst.append(cd)\n",
    "    output_ds[idx] = np.array(ds_seed_lst)\n",
    "    output_cd[idx] = np.array(cd_seed_lst)\n",
    "    \n",
    "output_ds_mean, output_cd_mean = output_ds.mean(0), output_cd.mean(0)\n",
    "output_ds_std, output_cd_std = output_ds.std(0), output_cd.std(0)"
   ]
  },
  {
   "cell_type": "code",
   "execution_count": null,
   "metadata": {},
   "outputs": [],
   "source": [
    "# Plotting the results of \"more dispersed training images\" Section 5.3\n",
    "plt.figure(figsize=(26, 4))\n",
    "plt.subplot(1, 4, 1)\n",
    "plt.plot(input_x_labels, img_avg_ds_lst, 'o-', c=linecolor, mec=markercolor, mfc=markercolor, linewidth=linewidth, markersize=markersize)\n",
    "plt.xticks(input_x_labels, input_x_labels, fontsize=20)\n",
    "plt.grid()\n",
    "plt.ylabel(\"Input DS\", fontsize=fontsize-5)\n",
    "plt.xlabel(\"Angle range of rendering viewpoint\", fontsize=20)\n",
    "plt.subplot(1, 4, 2)\n",
    "plt.plot(input_x_labels, len(input_x_labels) * shape_avg_ds_lst, 'o-', c=linecolor, mec=markercolor, mfc=markercolor, linewidth=linewidth, markersize=markersize)\n",
    "plt.grid()\n",
    "plt.xticks(input_x_labels, input_x_labels, fontsize=20)\n",
    "plt.ylabel(\"Input DS\", fontsize=fontsize-5)\n",
    "plt.xlabel(\"Angle range of rendering viewpoint\", fontsize=20)\n",
    "\n",
    "plt.subplot(1, 4, 3)\n",
    "plt.plot(input_x_labels, output_ds_mean, 'o-', c=linecolor, mec=markercolor, mfc=markercolor, linewidth=linewidth, markersize=markersize)\n",
    "plt.grid()\n",
    "plt.xticks(input_x_labels, input_x_labels, fontsize=20)\n",
    "plt.ylabel(\"Output DS\", fontsize=fontsize-5)\n",
    "plt.xlabel(\"Angle range of rendering viewpoint\", fontsize=20)\n",
    "plt.subplot(1, 4, 4)\n",
    "plt.plot(input_x_labels, output_cd_mean, 'o-', c=linecolor, mec=markercolor, mfc=markercolor, linewidth=linewidth, markersize=markersize)\n",
    "plt.grid()\n",
    "plt.xticks(input_x_labels, input_x_labels, fontsize=20)\n",
    "plt.ylabel(\"Chamfer distance\", fontsize=fontsize-5)\n",
    "plt.xlabel(\"Angle range of rendering viewpoint\", fontsize=20)\n",
    "plt.show()"
   ]
  },
  {
   "cell_type": "markdown",
   "metadata": {},
   "source": [
    "## More Dispersed Training Images (Section 5.4)"
   ]
  },
  {
   "cell_type": "code",
   "execution_count": null,
   "metadata": {},
   "outputs": [],
   "source": [
    "base_path = '../eval/eval_results/more_shapes'\n",
    "input_path = 'checkpoints_input'\n",
    "output_path = 'checkpoints_pred'\n",
    "\n",
    "# Load Input shape dispersion score\n",
    "input_shape_npz_paths = glob.glob(join(base_path, input_path, \"*points*.npz\"))\n",
    "input_shape_npz_paths.sort()\n",
    "shape_avg_ds_lst = []\n",
    "for npz_path in input_shape_npz_paths:\n",
    "    ds_dict = np.load(npz_path)\n",
    "    sample_num = ds_dict['sample_num']\n",
    "    ds_sum = ds_dict['KMedoids_Inertia_k500p0'][0].item()\n",
    "    avg_ds = ds_sum/sample_num\n",
    "    shape_avg_ds_lst.append(avg_ds)\n",
    "\n",
    "input_image_npz_paths = glob.glob(join(base_path, input_path, \"*image*.npz\"))\n",
    "input_image_npz_paths.sort()\n",
    "image_avg_ds_lst = []\n",
    "for npz_path in input_image_npz_paths:\n",
    "    ds_dict = np.load(npz_path)\n",
    "    sample_num = ds_dict['sample_num']\n",
    "    ds_sum = ds_dict['KMedoids_Inertia_k500p0'][0].item()\n",
    "    avg_ds = ds_sum/sample_num\n",
    "    image_avg_ds_lst.append(avg_ds)\n",
    "print(shape_avg_ds_lst, image_avg_ds_lst)\n",
    "\n",
    "width = 0.2\n",
    "\n",
    "plt.figure(figsize=(20, 5))\n",
    "plt.subplot(1, 2 ,1)\n",
    "plt.bar(np.array([0.2, 0.8]), image_avg_ds_lst * 2, align='center', alpha=0.5, width=width, capsize=10)\n",
    "plt.xticks(np.array([0.2, 0.8]), ['OC', 'VC'], fontsize=20)\n",
    "plt.ylabel(\"Input DS\")\n",
    "plt.legend([\"Training Images\"], fontsize=15)\n",
    "plt.xlabel(\"Shape Coordinate Representation\", fontsize=15)\n",
    "\n",
    "plt.subplot(1, 2 ,2)\n",
    "plt.bar(np.array([0.2, 0.8]), shape_avg_ds_lst, align='center', alpha=0.5, width=width, capsize=10)\n",
    "plt.xticks(np.array([0.2, 0.8]), ['OC', 'VC'], fontsize=20)\n",
    "plt.ylabel(\"Input DS\")\n",
    "plt.legend([\"Training Shapes\"], fontsize=15)\n",
    "plt.xlabel(\"Shape Coordinate Representation\", fontsize=15)"
   ]
  },
  {
   "cell_type": "code",
   "execution_count": null,
   "metadata": {},
   "outputs": [],
   "source": [
    "benchmark_dict = \\\n",
    "{'viewer': \n",
    "{'psgnSPHERE1':{},\n",
    "'foldnetSQUARE1':{},\n",
    "'atlasnetSQUARE25':{},\n",
    "'atlasnetSPHERE1':{}\n",
    "},\n",
    "'object':\n",
    "{'psgnSPHERE1':{},\n",
    "'foldnetSQUARE1':{},\n",
    "'atlasnetSQUARE25':{},\n",
    "'atlasnetSPHERE1':{}\n",
    "}\n",
    "}\n",
    "\n",
    "for mode in benchmark_dict:\n",
    "    for net_key in benchmark_dict[mode]: \n",
    "        for m in metric_list:\n",
    "            benchmark_dict[mode][net_key]['output_ds'] = []\n",
    "            benchmark_dict[mode][net_key]['chamfer'] = []\n",
    "for mode in benchmark_dict:\n",
    "    npz_paths = glob.glob(join(base_path, output_path, f\"{mode}_*.npz\"))\n",
    "    for net_key in benchmark_dict[mode]:\n",
    "        for path in npz_paths:\n",
    "            if net_key in path:\n",
    "                npz_dict = np.load(path, allow_pickle=True)\n",
    "                chamfer = npz_dict['chamfer_stats'][0]\n",
    "                benchmark_dict[mode][net_key]['output_ds'].append(npz_dict['KMedoids_Inertia_k500p0'][0]/npz_dict['sample_num'])\n",
    "                benchmark_dict[mode][net_key]['chamfer'].append(chamfer)\n",
    "benchmark_mean_dict = {}\n",
    "benchmark_std_dict = {}\n",
    "for mode in benchmark_dict:\n",
    "    benchmark_mean_dict[mode] = {}\n",
    "    benchmark_std_dict[mode] = {}\n",
    "    for net_key in benchmark_dict[mode]:\n",
    "        benchmark_mean_dict[mode][net_key] = np.array(benchmark_dict[mode][net_key]['output_ds']).mean()\n",
    "        benchmark_std_dict[mode][net_key] = np.array(benchmark_dict[mode][net_key]['output_ds']).std()\n",
    "        \n",
    "df_mean = pd.DataFrame(benchmark_mean_dict, index=benchmark_dict['viewer'].keys())\n",
    "df_std = pd.DataFrame(benchmark_std_dict, index=benchmark_dict['viewer'].keys())\n",
    "print(\"Mean\", df_mean)"
   ]
  },
  {
   "cell_type": "code",
   "execution_count": null,
   "metadata": {},
   "outputs": [],
   "source": [
    "print(\"STD\", df_std)"
   ]
  },
  {
   "cell_type": "code",
   "execution_count": null,
   "metadata": {},
   "outputs": [],
   "source": []
  }
 ],
 "metadata": {
  "kernelspec": {
   "display_name": "Python 3",
   "language": "python",
   "name": "python3"
  },
  "language_info": {
   "codemirror_mode": {
    "name": "ipython",
    "version": 3
   },
   "file_extension": ".py",
   "mimetype": "text/x-python",
   "name": "python",
   "nbconvert_exporter": "python",
   "pygments_lexer": "ipython3",
   "version": "3.6.12"
  }
 },
 "nbformat": 4,
 "nbformat_minor": 4
}
